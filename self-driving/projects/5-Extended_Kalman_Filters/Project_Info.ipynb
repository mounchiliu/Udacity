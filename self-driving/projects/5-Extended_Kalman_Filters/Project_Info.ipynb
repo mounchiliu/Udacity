{
 "cells": [
  {
   "cell_type": "markdown",
   "metadata": {},
   "source": [
    "- now, we're going to program Extended Kalman filter\n",
    "- it's actually hard to do it turns out because even small errors in computer derivatives lead to completely bizarre behaviour in the output and they're very hard to debug"
   ]
  },
  {
   "cell_type": "markdown",
   "metadata": {},
   "source": [
    "# Intro to Extended Kalman Filter Project"
   ]
  },
  {
   "cell_type": "markdown",
   "metadata": {},
   "source": [
    "- now that you have learned how the Extended Kalman filter works, you are going to implement the Extended Kalman filter in C++\n",
    "- we are providing simulated lidar and radar measurements detecting a bicycle that travels around your vehicle\n",
    "- you will use a Kalman filter, lidar measurements and radar measurements to track the bicycle's position and velocity\n",
    "\n",
    "\n",
    "- lidar measurements are red circles, radar measurements are blue circles with an arrow pointing in the direction of the observed angle, and estimation markers are green triangles\n",
    "- the video below shows what the simulator looks like when a C++ script is using its Kalman filter to track the object\n",
    "- the simulator provides the script the measured data (either lidar or radar), and the script feeds back the measured estimation marker, and RMSE values from its Kalman filter\n",
    "- https://youtu.be/d6qbR3_LPoA"
   ]
  },
  {
   "cell_type": "markdown",
   "metadata": {},
   "source": [
    "## Example of Tracking with Lidar"
   ]
  },
  {
   "cell_type": "markdown",
   "metadata": {},
   "source": [
    "- check out the video below to see a real world example of object tracking with lidar\n",
    "- in this project, you will only be tracking one object, but the video will give you a sense for how object tracking with lidar works\n",
    "- https://youtu.be/FMNJPX_sszU"
   ]
  },
  {
   "cell_type": "markdown",
   "metadata": {},
   "source": [
    "# Data File for EKF project"
   ]
  },
  {
   "cell_type": "markdown",
   "metadata": {},
   "source": [
    "- the GitHub repo contains one data file: `obj_pose-laser-radar-synthetic-input.txt`\n",
    "- the simulator will be using this data file, and feed `main.cpp` values from it one line at a time\n",
    "- here is a screenshot of the first data file:\n",
    "\n",
    "<img src=\"resources/data_file_screenshot.png\"/>\n",
    "\n",
    "- each row represents a sensor measurement where the first column tells you if the measurement comes from radar (R) or lidar (L)\n",
    "\n",
    "\n",
    "- for a row containing `radar data`, the columns are: `sensor_type`, `rho_measured`, `phi_measured`, `rhodot_measured`, `timestamp`, `x_groundtruth`, `y_groundtruth`, `vx_groundtruth`, `vy_groundtruth`, `yaw_groundtruth`, `yawrate_groundtruth`\n",
    "\n",
    "\n",
    "- for a row containing `lidar data`, the columns are: `sensor_type`, `x_measured`, `y_measured`, `timestamp`, `x_groundtruth`, `y_groundtruth`, `vx_groundtruth`, `vy_groundtruth`, `yaw_groundtruth`, `yawrate_groundtruth`\n",
    "\n",
    "\n",
    "- whereas radar has three measurements (rho, phi, rhodot), lidar has two measurements (x, y)\n",
    "- you will use the measurement values and timestamp in your Kalman filter algorithm\n",
    "  - groundtruth, which represents the actual path the bicycle took, is for calculating root mean squared error\n",
    "  - you do not need to worry about yaw and yaw rate ground truth values"
   ]
  },
  {
   "cell_type": "markdown",
   "metadata": {},
   "source": [
    "### Reading in the Data"
   ]
  },
  {
   "cell_type": "markdown",
   "metadata": {},
   "source": [
    "- we have provided code that will read in and parse the data files for you\n",
    "- this code is in the `main.cpp` file\n",
    "  - the `main.cpp` file creates instances of a `MeasurementPackage`\n",
    "\n",
    "\n",
    "- if you look inside `main.cpp`, you will see code like:\n",
    "```cpp\n",
    "MeasurementPackage meas_package;\n",
    "meas_package.sensor_type_ = MeasurementPackage::LASER;\n",
    "meas_package.raw_measurements_ = VectorXd(2);\n",
    "meas_package.raw_measurements_ << px, py;\n",
    "meas_package.timestamp_ = timestamp;\n",
    "```\n",
    "and\n",
    "```cpp\n",
    "vector<VectorXd> ground_truth;\n",
    "VectorXd gt_values(4);\n",
    "gt_values(0) = x_gt;\n",
    "gt_values(1) = y_gt; \n",
    "gt_values(2) = vx_gt;\n",
    "gt_values(3) = vy_gt;\n",
    "ground_truth.push_back(gt_values);\n",
    "```\n",
    "\n",
    "- the code reads in the data file line by line\n",
    "- the measurement data for each line gets pushed onto a `measurement_pack_list`\n",
    "- the ground truth $[p_x, p_y, v_x, v_y]$ for each line in the data file gets pushed onto `ground_truth` so RMSE can be calculated later from `tools.cpp`"
   ]
  },
  {
   "cell_type": "markdown",
   "metadata": {},
   "source": [
    "# File Structure"
   ]
  },
  {
   "cell_type": "markdown",
   "metadata": {},
   "source": [
    "## Overview of a Kalman Filter: Initialize, Predict, Update"
   ]
  },
  {
   "cell_type": "markdown",
   "metadata": {},
   "source": [
    "- to review what we learned in the extended Kalman filter lectures, let's discuss the three main steps for programming a Kalman filter:\n",
    "  - **initializing** Kalman filter variables\n",
    "  - **predicting** where our object is going to be after a time step $\\Delta{t}$\n",
    "  - **updating** where our object is based on sensor measurements\n",
    "\n",
    "\n",
    "- then the prediction and update steps repeat themselves in a loop\n",
    "\n",
    "\n",
    "- to measure how well our Kalman filter performs, we will then calculate **root mean squared error** comparing the Kalman filter results with the provided ground truth\n",
    "\n",
    "\n",
    "- these three steps (initialize, predict, update) plus calculating RMSE encapsulate the entire extended Kalman filter project"
   ]
  },
  {
   "cell_type": "markdown",
   "metadata": {},
   "source": [
    "## Files in the GitHub src folder"
   ]
  },
  {
   "cell_type": "markdown",
   "metadata": {},
   "source": [
    "- the files you need to work with are in the `src` folder of the GitHub repository\n",
    "  - `main.cpp` - communicates with the Term 2 Simulator receiving data measurements, calls a function to run the Kalman filter, calls a function to calculate RMSE\n",
    "  - `FusionEKF.cpp` - initializes the filter, calls the predict function, calls the update function\n",
    "  - `kalman_filter.cpp` - defines the predict function, the update function for lidar, and the update function for radar\n",
    "  - `tools.cpp` - function to calculate RMSE and the Jacobian matrix\n",
    "\n",
    "\n",
    "- the only files you need to modify are `FusionEKF.cpp`, `kalman_filter.cpp`, and `tools.cpp`"
   ]
  },
  {
   "cell_type": "markdown",
   "metadata": {},
   "source": [
    "## How the Files Relate to Each Other"
   ]
  },
  {
   "cell_type": "markdown",
   "metadata": {},
   "source": [
    "- here is a brief overview of what happens when you run the code files:\n",
    "  1. `main.cpp` reads in the data and sends a sensor measurement to `FusionEKF.cpp`\n",
    "  2. `FusionEKF.cpp` takes the sensor data and initializes variables and updates variables\n",
    "    - the Kalman filter equations are not in this file\n",
    "    - `FusionEKF.cpp` has a variable called `ekf_`, which is an instance of a `KalmanFilter` class\n",
    "    - the `ekf_` will hold the matrix and vector values\n",
    "    - you will also use the `ekf_` instance to call the predict and update equations\n",
    "  3. the `KalmanFilter` class is defined in `kalman_filter.cpp` and `kalman_filter.h`\n",
    "    - you will only need to modify `kalman_filter.cpp`, which contains functions for the prediction and update steps"
   ]
  },
  {
   "cell_type": "markdown",
   "metadata": {},
   "source": [
    "## Main.cpp"
   ]
  },
  {
   "cell_type": "markdown",
   "metadata": {},
   "source": [
    "- although you will not need to modify this file, the project is easier to implement once you understand what the file is doing\n",
    "- as a suggestion, open the GitHub repository for the project and look at the code files simultaneously with this lecture slide\n",
    "\n",
    "\n",
    "- the Term 2 simulator is a client, and the C++ program software is a web server\n",
    "\n",
    "\n",
    "- we already discussed how `main.cpp` reads in the sensor data\n",
    "- recall that `main.cpp` reads in the sensor data line by line from the client and stores the data into a measurement object that it passes to the Kalman filter for processing\n",
    "- also a ground truth list and an estimation list are used for tracking RMSE\n",
    "\n",
    "\n",
    "- `main.cpp` is made up of several functions within `main()`, these all handle the uWebsocketIO communication between the simulator and it's self\n",
    "\n",
    "\n",
    "- here is the main protocol that main.cpp uses for uWebSocketIO in communicating with the simulator:\n",
    "\n",
    "```cpp\n",
    "INPUT: values provided by the simulator to the C++ program\n",
    "\n",
    "[\"sensor_measurement\"] => the measurement that the simulator observed (either lidar or radar)\n",
    "\n",
    "\n",
    "OUTPUT: values provided by the C++ program to the simulator\n",
    "\n",
    "[\"estimate_x\"] <= kalman filter estimated position x\n",
    "[\"estimate_y\"] <= kalman filter estimated position y\n",
    "[\"rmse_x\"]\n",
    "[\"rmse_y\"]\n",
    "[\"rmse_vx\"]\n",
    "[\"rmse_vy\"]\n",
    "```"
   ]
  },
  {
   "cell_type": "markdown",
   "metadata": {},
   "source": [
    "- all the main code loops in `h.onMessage()`, to have access to intial variables that we created at the beginning of `main()`, we pass pointers as arguments into the header of `h.onMessage()`\n",
    "- for example\n",
    "```cpp\n",
    "h.onMessage([&fusionEKF,&tools,&estimations,&ground_truth]\n",
    "            (uWS::WebSocket<uWS::SERVER> ws, char *data, size_t length, \n",
    "             uWS::OpCode opCode)\n",
    "```\n",
    "\n",
    "- the rest of the arguments in `h.onMessage` are used to set up the server\n",
    "```cpp\n",
    " // Create a Fusion EKF instance\n",
    "  FusionEKF fusionEKF;\n",
    "\n",
    "  // used to compute the RMSE later\n",
    "  vector<VectorXd> estimations;\n",
    "  vector<VectorXd> ground_truth;\n",
    "\n",
    "  //Call the EKF-based fusion\n",
    "  fusionEKF.ProcessMeasurement(meas_package); \n",
    "```\n",
    "- the code is:\n",
    "  - creating an instance of the `FusionEKF` class\n",
    "  - receiving the measurement data calling the `ProcessMeasurement()` function\n",
    "    - `ProcessMeasurement()` is responsible for the initialization of the Kalman filter as well as calling the prediction and update steps of the Kalman filter\n",
    "    - you will be implementing the `ProcessMeasurement()` function in `FusionEKF.cpp`\n",
    "\n",
    "\n",
    "- the rest of `main.cpp` will output the following results to the simulator:\n",
    "  - estimation position\n",
    "  - calculated RMSE\n",
    "- `main.cpp` will call a function to calculate root mean squared error:\n",
    "```cpp\n",
    "  // compute the accuracy (RMSE)\n",
    "  Tools tools;\n",
    "  cout << \"Accuracy - RMSE:\" << endl << tools.CalculateRMSE(estimations, ground_truth) << endl;\n",
    "```\n",
    "  - you will implement an RMSE function in the `tools.cpp` file"
   ]
  },
  {
   "cell_type": "markdown",
   "metadata": {},
   "source": [
    "# Project Code"
   ]
  },
  {
   "cell_type": "markdown",
   "metadata": {},
   "source": [
    "## FusionEKF.cpp"
   ]
  },
  {
   "cell_type": "markdown",
   "metadata": {},
   "source": [
    "- in `FusionEKF.cpp`, we have given some starter code for implementing sensor fusion\n",
    "  - in this file, you won't need to include the actual Kalman filter equations; instead, you will be initializing variables, initializing the Kalman filters, and then calling functions that implement the prediction step or update step\n",
    "  - you will see TODO comments indicating where to put your code\n",
    "\n",
    "\n",
    "- you will need to:\n",
    "  - initialize variables and matrices (x, F, H_laser, H_jacobian, P, etc.)\n",
    "  - initialize the Kalman filter position vector with the first sensor measurements\n",
    "  - modify the F and Q matrices prior to the prediction step based on the elapsed time between measurements\n",
    "  - call the update step for either the lidar or radar sensor measurement. Because the update step for lidar and radar are slightly different, there are different functions for updating lidar and radar"
   ]
  },
  {
   "cell_type": "markdown",
   "metadata": {},
   "source": [
    "### Initializing Variables in FusionEKF.cpp\n",
    "\n",
    "```cpp\n",
    "// initializing matrices\n",
    "  R_laser_ = MatrixXd(2, 2);\n",
    "  R_radar_ = MatrixXd(3, 3);\n",
    "  H_laser_ = MatrixXd(2, 4);\n",
    "  Hj_ = MatrixXd(3, 4);\n",
    "\n",
    "  //measurement covariance matrix - laser\n",
    "  R_laser_ << 0.0225, 0,\n",
    "              0, 0.0225;\n",
    "\n",
    "  //measurement covariance matrix - radar\n",
    "  R_radar_ << 0.09, 0, 0,\n",
    "              0, 0.0009, 0,\n",
    "              0, 0, 0.09;\n",
    "\n",
    "  /**\n",
    "   * TODO: Finish initializing the FusionEKF.\n",
    "   * TODO: Set the process and measurement noises\n",
    "   */\n",
    "```\n",
    "\n",
    "- every time `main.cpp` calls `fusionEKF.ProcessMeasurement(measurement_pack_list[k])`, the code in `FusionEKF.cpp` will run\n",
    "  - if this is the first measurement, the Kalman filter will try to initialize the object's location with the sensor measurement"
   ]
  },
  {
   "cell_type": "markdown",
   "metadata": {},
   "source": [
    "### Initializing the Kalman Filter in FusionEKF.cpp\n",
    "\n",
    "```cpp\n",
    "/**\n",
    "   * Initialization\n",
    "   */\n",
    "  if (!is_initialized_) {\n",
    "    /**\n",
    "     * TODO: Initialize the state ekf_.x_ with the first measurement.\n",
    "     * TODO: Create the covariance matrix.\n",
    "     * You'll need to convert radar from polar to cartesian coordinates.\n",
    "     */\n",
    "\n",
    "    // first measurement\n",
    "    cout << \"EKF: \" << endl;\n",
    "    ekf_.x_ = VectorXd(4);\n",
    "    ekf_.x_ << 1, 1, 1, 1;\n",
    "\n",
    "    if (measurement_pack.sensor_type_ == MeasurementPackage::RADAR) {\n",
    "      // TODO: Convert radar from polar to cartesian coordinates \n",
    "      //         and initialize state.\n",
    "\n",
    "    }\n",
    "    else if (measurement_pack.sensor_type_ == MeasurementPackage::LASER) {\n",
    "      // TODO: Initialize state.\n",
    "\n",
    "    }\n",
    "\n",
    "    // done initializing, no need to predict or update\n",
    "    is_initialized_ = true;\n",
    "    return;\n",
    "  }\n",
    "```"
   ]
  },
  {
   "cell_type": "markdown",
   "metadata": {},
   "source": [
    "### Predict and Update Steps in FusionEKF.cpp\n",
    "\n",
    "- once the Kalman filter gets initialized, the next iterations of the for loop will call the `ProcessMeasurement()` function to do the predict and update steps\n",
    "\n",
    "```cpp\n",
    "/**\n",
    "   * Prediction\n",
    "   */\n",
    "\n",
    "  /**\n",
    "   * TODO: Update the state transition matrix F according to the new elapsed time.\n",
    "   * Time is measured in seconds.\n",
    "   * TODO: Update the process noise covariance matrix.\n",
    "   * Use noise_ax = 9 and noise_ay = 9 for your Q matrix.\n",
    "   */\n",
    "\n",
    "  ekf_.Predict();\n",
    "\n",
    "  /**\n",
    "   * Update\n",
    "   */\n",
    "\n",
    "  /**\n",
    "   * TODO: Use the sensor type to perform the update step.\n",
    "   * TODO: Update the state and covariance matrices.\n",
    "   */\n",
    "\n",
    "  if (measurement_pack.sensor_type_ == MeasurementPackage::RADAR) {\n",
    "    // TODO: Radar updates\n",
    "\n",
    "  } else {\n",
    "    // TODO: Laser updates\n",
    "\n",
    "  }\n",
    "```\n",
    "\n",
    "- in `FusionEKF.cpp`, you will see references to a variable called `ekf_`\n",
    "  - the `ekf_` variable is an instance of the `KalmanFilter` class\n",
    "  - you will use `ekf_` to store your Kalman filter variables (x, P, F, H, R, Q) and call the predict and update functions"
   ]
  },
  {
   "cell_type": "markdown",
   "metadata": {},
   "source": [
    "## KalmanFilter Class"
   ]
  },
  {
   "cell_type": "markdown",
   "metadata": {},
   "source": [
    "- `kalman_filter.h` defines the `KalmanFilter` class containing the x vector as well as the P, F, Q, H and R matrices\n",
    "- the KalmanFilter class also contains functions for the prediction step as well as the Kalman filter update step (lidar) and extended Kalman filter update step (radar).\n",
    "\n",
    "\n",
    "- you will need to add your code to `kalman_filter.cpp` to implement the prediction and update equations\n",
    "- you do not need to modify `kalman_filter.h`\n",
    "\n",
    "\n",
    "- because lidar uses linear equations, the update step will use the basic Kalman filter equations\n",
    "- on the other hand, radar uses non-linear equations, so the update step involves linearizing the equations with the Jacobian matrix\n",
    "- the `Update` function will use the standard Kalman filter equations\n",
    "- the `UpdateEKF` will use the extended Kalman filter equations:\n",
    "\n",
    "```cpp\n",
    "void KalmanFilter::Predict() {\n",
    "  /**\n",
    "   * TODO: predict the state\n",
    "   */\n",
    "}\n",
    "\n",
    "void KalmanFilter::Update(const VectorXd &z) {\n",
    "  /**\n",
    "   * TODO: update the state by using Kalman Filter equations\n",
    "   */\n",
    "}\n",
    "\n",
    "void KalmanFilter::UpdateEKF(const VectorXd &z) {\n",
    "  /**\n",
    "   * TODO: update the state by using Extended Kalman Filter equations\n",
    "   */\n",
    "}\n",
    "```"
   ]
  },
  {
   "cell_type": "markdown",
   "metadata": {},
   "source": [
    "## Tools.cpp"
   ]
  },
  {
   "cell_type": "markdown",
   "metadata": {},
   "source": [
    "- this file is relatively straight forward--you will implement functions to calculate root mean squared error and the Jacobian matrix:\n",
    "\n",
    "```cpp\n",
    "VectorXd Tools::CalculateRMSE(const vector<VectorXd> &estimations,\n",
    "                              const vector<VectorXd> &ground_truth) {\n",
    "  /**\n",
    "   * TODO: Calculate the RMSE here.\n",
    "   */\n",
    "}\n",
    "\n",
    "MatrixXd Tools::CalculateJacobian(const VectorXd& x_state) {\n",
    "  /**\n",
    "   * TODO: Calculate a Jacobian here.\n",
    "   */\n",
    "}\n",
    "```"
   ]
  },
  {
   "cell_type": "markdown",
   "metadata": {},
   "source": [
    "# Tips and Tricks"
   ]
  },
  {
   "cell_type": "markdown",
   "metadata": {},
   "source": [
    "### Summary of What Needs to Be Done\n",
    "\n",
    "- in `tools.cpp`, fill in the functions that calculate root mean squared error (RMSE) and the Jacobian matrix\n",
    "- fill in the code in `FusionEKF.cpp`\n",
    "  - you'll need to initialize the Kalman Filter, prepare the Q and F matrices for the prediction step, and call the radar and lidar update functions\n",
    "- in `kalman_filter.cpp`, fill out the `Predict()`, `Update()`, and `UpdateEKF()` functions"
   ]
  },
  {
   "cell_type": "markdown",
   "metadata": {},
   "source": [
    "### Tips and Tricks\n",
    "\n",
    "- Review the Previous Lessons\n",
    "  - review the previous lessons! Andrei, Dominik and co. have given you everything you need\n",
    "  - in fact, you've built most of an Extended Kalman Filter already!\n",
    "  - take a look at the programming assignments and apply the techniques you used to this project\n",
    "\n",
    "\n",
    "- No Need to Tune Parameters\n",
    "  - the R matrix values and Q noise values are provided for you\n",
    "  - there is no need to tune these parameters for this project\n",
    "\n",
    "\n",
    "- Initializing the State Vector\n",
    "  - you'll need to initialize the state vector with the first sensor measurement\n",
    "  - although radar gives velocity data in the form of the range rate $\\dot{\\rho}$, a radar measurement does not contain enough information to determine the state variable velocities $v_x$ and $v_y$\n",
    "    - you can, however, use the radar measurements $\\rho$ and $\\phi$ to initialize the state variable locations $p_x$ and $p_y$\n",
    "\n",
    "\n",
    "- Calculating $y = z - H * x'$\n",
    "  - for lidar measurements, the error equation is $y = z - H * x'$\n",
    "  - for radar measurements, the functions that map the $x$ vector $[p_x, p_y, v_x, v_y]$ to polar coordinates are non-linear\n",
    "    - instead of using $H$ to calculate $y = z - H * x'$, for radar measurements you'll have to use the equations that map from cartesian to polar coordinates: $y = z - h(x')$\n",
    "\n",
    "\n",
    "- Normalizing Angles\n",
    "  - in C++, `atan2()` returns values between $-\\pi$ and $\\pi$\n",
    "  - when calculating $\\phi$ in $y = z - h(x)$ for radar measurements, the resulting angle $\\phi$ in the $y$ vector should be adjusted so that it is between $-\\pi$ and $\\pi$\n",
    "  - the Kalman filter is expecting small angle values between the range $-\\pi$ and $\\pi$\n",
    "  - HINT: when working in radians, you can add $2\\pi$ or subtract $2\\pi$ until the angle is within the desired range\n",
    "\n",
    "\n",
    "- Avoid Divide by Zero throughout the Implementation\n",
    "  - before and while calculating the Jacobian matrix Hj, make sure your code avoids dividing by zero\n",
    "  - for example, both the x and y values might be zero or `px*px + py*py` might be close to zero\n",
    "\n",
    "\n",
    "- Test Your Implementation\n",
    "  - test! We're giving you the ability to analyze your output data and calculate RMSE\n",
    "  - as you make changes, keep testing your algorithm!\n",
    "  - if you are getting stuck, add print statements to pinpoint any issues--but please remove extra print statements before turning in the code"
   ]
  },
  {
   "cell_type": "markdown",
   "metadata": {},
   "source": [
    "### Ideas for Standing out!\n",
    "\n",
    "- the Kalman Filter general processing flow that you've learned in the preceding lessons gives you the basic knowledge needed to track an object\n",
    "- however, there are ways that you can make your algorithm more efficient!\n",
    "  - dealing with the first frame, in particular, offers opportunities for improvement\n",
    "  - experiment and see how low your RMSE can go!\n",
    "  - try removing radar or lidar data from the filter\n",
    "    - observe how your estimations change when running against a single sensor type!--do the results make sense given what you know about the nature of radar and lidar data?\n",
    "  - we give you starter code, but you are not required to use it!\n",
    "    - you may want to start from scratch"
   ]
  },
  {
   "cell_type": "markdown",
   "metadata": {},
   "source": [
    "### Optional Resources\n",
    "\n",
    "- to complete the project, you only need the files in the GitHub repo; however, we are also providing some extra resources that you can use to develop your solution:\n",
    "  - a [Sensor Fusion utilities repo](https://github.com/udacity/CarND-Mercedes-SF-Utilities) containing Matlab scripts that will generate more sample data (generating your own sample data is completely optional)\n",
    "  - visualization package that you can also find within the [Sensor Fusion utilities repo](https://github.com/udacity/CarND-Mercedes-SF-Utilities)"
   ]
  },
  {
   "cell_type": "markdown",
   "metadata": {},
   "source": [
    "# Project Instructions for local setup"
   ]
  },
  {
   "cell_type": "markdown",
   "metadata": {},
   "source": [
    "### Download Link for EKF Simulator\n",
    "\n",
    "- the EKF project was previously part of Term 2, so please download the [Term 2 Simulator Release](https://github.com/udacity/self-driving-car-sim/releases/)"
   ]
  },
  {
   "cell_type": "markdown",
   "metadata": {},
   "source": [
    "### Running the Program\n",
    "\n",
    "- download the simulator and open it\n",
    "- in the main menu screen select Project 1/2 EKF and UKF\n",
    "  - once the scene is loaded you can hit the START button to observe how the object moves and how measurement markers are positioned in the data set\n",
    "  - also for more experimentation, \"Data set 2\" is included which is a reversed version of \"Data set 1\", also the second data set starts with a radar measurement where the first data set starts with a lidar measurement\n",
    "  - at any time you can press the PAUSE button, to pause the scene or hit the RESTART button to reset the scene\n",
    "  - also, the ARROW KEYS can be used to move the camera around, and the top left ZOOM IN/OUT buttons can be used to focus the camera\n",
    "  - pressing the ESCAPE KEY returns to the simulator main menu\n",
    "- the EKF project GitHub repository README has more detailed instructions for installing and using C++ uWebScoketIO.\n",
    "\n",
    "\n",
    "### NOTES:\n",
    "\n",
    "- currently hitting Restart or switching between data sets only refreshes the simulator state and not the Kalman Filter's saved results\n",
    "  - the current procedure for refreshing the Kalman Filter is to close the connection, ctrl+c and reopen it, ./ExtendedKF\n",
    "  - if you don't do this when trying to run a different data set or running the same data set multiple times in a row, the RMSE values will become large because of the previous different filter results still being observed in memory\n",
    "- the two functions in `tools.cpp` need to be implemented for the simulator to avoid throwing a segmentation fault - make sure to get those built out in order to test in the simulator!\n",
    "- students have reported rapid expansion of log files when using the term 2 simulator\n",
    "  - this appears to be associated with not being connected to uWebSockets\n",
    "  - if this does occur, please make sure you are connected to uWebSockets\n",
    "  - the following workaround may also be effective at preventing large log files\n",
    "    - create an empty log file\n",
    "    - remove write permissions so that the simulator can't write to log"
   ]
  },
  {
   "cell_type": "markdown",
   "metadata": {},
   "source": [
    "# uWebSocketIO Starter Guide"
   ]
  },
  {
   "cell_type": "markdown",
   "metadata": {},
   "source": [
    "- this project involve using an open source package called [uWebSocketIO](https://github.com/uNetworking/uWebSockets)\n",
    "- this package facilitates the same connection between the simulator and code that was used in the Term 1 Behavioral Cloning Project, but now with C++\n",
    "- the package does this by setting up a web socket server connection from the C++ program to the simulator, which acts as the host\n",
    "- in the project repository there are two scripts for installing uWebSocketIO - one for Linux and the other for macOS\n",
    "- note: Only uWebSocketIO branch e94b6e1, which the scripts reference, is compatible with the package installation.\n",
    "\n",
    "\n",
    "- Linux Installation: from the project repository directory run the script: `install-ubuntu.sh`"
   ]
  },
  {
   "cell_type": "markdown",
   "metadata": {},
   "source": [
    "### Port forwarding is required when running code on VM and simulator on host\n",
    "\n",
    "- for security reasons, the VM does not automatically open port forwarding, so you need to manually [enable port 4567](https://www.howtogeek.com/122641/how-to-forward-ports-to-a-virtual-machine-and-use-it-as-a-server/)\n",
    "  - this is needed for the C++ program to successfully connect to the host simulator\n",
    "  \n",
    "- Port Forwarding Instructions\n",
    "  - first open up Oracle VM VirtualBox\n",
    "  - click on the default session and select settings\n",
    "  - click on Network, and then Advanced\n",
    "  - click on Port Forwarding\n",
    "  - click on the green plus, adds new port forwarding rule\n",
    "  - add a rule that assigns 4567 as both the host port and guest Port, as in the screenshot\n",
    "    \n",
    "<img src=\"resources/port_forward.png\"/>"
   ]
  },
  {
   "cell_type": "code",
   "execution_count": null,
   "metadata": {},
   "outputs": [],
   "source": []
  }
 ],
 "metadata": {
  "kernelspec": {
   "display_name": "C++14",
   "language": "C++14",
   "name": "xcpp14"
  },
  "language_info": {
   "codemirror_mode": "text/x-c++src",
   "file_extension": ".cpp",
   "mimetype": "text/x-c++src",
   "name": "c++",
   "version": "14"
  }
 },
 "nbformat": 4,
 "nbformat_minor": 4
}
